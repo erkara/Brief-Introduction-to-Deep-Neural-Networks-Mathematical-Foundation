{
 "cells": [
  {
   "cell_type": "code",
   "execution_count": 1,
   "id": "2b913ead",
   "metadata": {},
   "outputs": [],
   "source": [
    "import numpy as np\n",
    "import pandas as pd"
   ]
  },
  {
   "cell_type": "code",
   "execution_count": 42,
   "id": "f96218a6",
   "metadata": {},
   "outputs": [],
   "source": [
    "df = pd.read_csv('sample_data.csv').to_numpy()\n",
    "X = df[:,0:2]\n",
    "Y = df[:,-1]"
   ]
  },
  {
   "cell_type": "code",
   "execution_count": 45,
   "id": "1f2d5b39",
   "metadata": {},
   "outputs": [
    {
     "name": "stdout",
     "output_type": "stream",
     "text": [
      "[[2 8]\n",
      " [6 3]\n",
      " [8 8]\n",
      " [2 9]\n",
      " [3 7]\n",
      " [9 2]]\n",
      "[-1 42 41 -4  9 66]\n"
     ]
    }
   ],
   "source": [
    "print(X)\n",
    "print(Y)"
   ]
  },
  {
   "cell_type": "code",
   "execution_count": null,
   "id": "470b04bd",
   "metadata": {},
   "outputs": [],
   "source": []
  },
  {
   "cell_type": "code",
   "execution_count": null,
   "id": "607f16fa",
   "metadata": {},
   "outputs": [],
   "source": []
  },
  {
   "cell_type": "code",
   "execution_count": 51,
   "id": "75cd4692",
   "metadata": {},
   "outputs": [],
   "source": [
    "#(a) initialize the weights\n",
    "w = np.array([5,2])\n",
    "b = 3\n",
    "#set learning rate\n",
    "r = 0.01"
   ]
  },
  {
   "cell_type": "code",
   "execution_count": 52,
   "id": "8040d9b4",
   "metadata": {},
   "outputs": [
    {
     "name": "stdout",
     "output_type": "stream",
     "text": [
      "y_pred: 29\n",
      "loss:  900\n",
      "w_grad [120 480]\n",
      "b_grad 60.0\n",
      "New w: [ 3.8 -2.8]\n",
      "New b: 2.4\n"
     ]
    }
   ],
   "source": [
    "#do one forward pass-back propogaton for the first row\n",
    "#1-Forward pass\n",
    "\n",
    "#(b)-(c) Feed data and get predictions\n",
    "y_pred = (w*X[0]).sum()+b\n",
    "print('y_pred:',y_pred)\n",
    "#(d) compute the loss\n",
    "loss = (y_pred-Y[0])**2\n",
    "print('loss: ',loss)\n",
    "\n",
    "#2 Back-propogation\n",
    "#(a) compute the gradients\n",
    "w_grad = 2*(y_pred-Y[0])*X[0]\n",
    "b_grad = 2*(y_pred-Y[0])*1.\n",
    "print('w_grad',w_grad)\n",
    "print('b_grad',b_grad)\n",
    "#(b) update the weigths\n",
    "w = w - r*w_grad\n",
    "b = b - r*b_grad\n",
    "print('New w:',w)\n",
    "print('New b:',b)"
   ]
  },
  {
   "cell_type": "code",
   "execution_count": 37,
   "id": "cd8f92c2",
   "metadata": {},
   "outputs": [],
   "source": [
    "#(a) initialize the weights\n",
    "w = np.array([5,8,11])\n",
    "b = 4\n",
    "#set learning rate\n",
    "r = 0.001\n",
    "n_rows = len(X)\n",
    "n_epochs = 10000"
   ]
  },
  {
   "cell_type": "code",
   "execution_count": 38,
   "id": "3da04ce5",
   "metadata": {},
   "outputs": [
    {
     "name": "stdout",
     "output_type": "stream",
     "text": [
      "w:  [ 4.00000006  7.00000026 -7.99999992]\n",
      "b:  10.99999271362478\n"
     ]
    }
   ],
   "source": [
    "#1-Forward pass\n",
    "#(b)-(c) Feed data and get predictions\n",
    "for j in range(n_epochs): #repeat several times\n",
    "    for i in range(n_rows): #scan all rows\n",
    "        y_pred = (w*X[i]).sum()+b\n",
    "        #(d) compute the loss\n",
    "        loss = (y_pred-Y[i])**2\n",
    "        #2 Back-propogation\n",
    "        #(a) compute the gradients\n",
    "        w_grad = 2*(y_pred-Y[i])*X[i]\n",
    "        b_grad = 2*(y_pred-Y[i])*1.\n",
    "        #(b) update the weigths\n",
    "        w = w - r*w_grad\n",
    "        b = b - r*b_grad\n",
    "print('w: ',w)\n",
    "print('b: ',b)"
   ]
  },
  {
   "cell_type": "code",
   "execution_count": 29,
   "id": "1670b678",
   "metadata": {},
   "outputs": [],
   "source": [
    "#w1=4,w2=7,w3=-8,b=11"
   ]
  },
  {
   "cell_type": "code",
   "execution_count": 39,
   "id": "f39aaefe",
   "metadata": {},
   "outputs": [
    {
     "name": "stdout",
     "output_type": "stream",
     "text": [
      "real:  -3\n",
      "pred:  -3.0000046853868962\n"
     ]
    }
   ],
   "source": [
    "#create a simple test data to evalaute the performance\n",
    "x_test = np.array([4,6,9])\n",
    "y_test = 4*4+7*6+(-8)*9+11\n",
    "print('real: ',y_test)\n",
    "y_pred = (w*x_test).sum()+b\n",
    "print('pred: ',y_pred)"
   ]
  },
  {
   "cell_type": "code",
   "execution_count": null,
   "id": "2d63918b",
   "metadata": {},
   "outputs": [],
   "source": []
  },
  {
   "cell_type": "code",
   "execution_count": null,
   "id": "31f0bed3",
   "metadata": {},
   "outputs": [],
   "source": []
  },
  {
   "cell_type": "code",
   "execution_count": null,
   "id": "902da760",
   "metadata": {},
   "outputs": [],
   "source": []
  },
  {
   "cell_type": "code",
   "execution_count": null,
   "id": "f1a9e34f",
   "metadata": {},
   "outputs": [],
   "source": []
  },
  {
   "cell_type": "code",
   "execution_count": null,
   "id": "0db42412",
   "metadata": {},
   "outputs": [],
   "source": []
  },
  {
   "cell_type": "code",
   "execution_count": null,
   "id": "fe27aa8d",
   "metadata": {},
   "outputs": [],
   "source": []
  },
  {
   "cell_type": "code",
   "execution_count": null,
   "id": "7b2b2b8f",
   "metadata": {},
   "outputs": [],
   "source": []
  },
  {
   "cell_type": "code",
   "execution_count": null,
   "id": "5311ca75",
   "metadata": {},
   "outputs": [],
   "source": []
  },
  {
   "cell_type": "code",
   "execution_count": null,
   "id": "97048904",
   "metadata": {},
   "outputs": [],
   "source": []
  },
  {
   "cell_type": "code",
   "execution_count": 20,
   "id": "aac9da78",
   "metadata": {},
   "outputs": [],
   "source": [
    "# n_rows = len(X)\n",
    "# for i in range(n_rows):\n",
    "#     y_pred = (w*X[i]).sum()+b"
   ]
  },
  {
   "cell_type": "code",
   "execution_count": 6,
   "id": "3b51d33c",
   "metadata": {
    "scrolled": true
   },
   "outputs": [
    {
     "data": {
      "text/plain": [
       "71"
      ]
     },
     "execution_count": 6,
     "metadata": {},
     "output_type": "execute_result"
    }
   ],
   "source": [
    "Y[0]"
   ]
  },
  {
   "cell_type": "code",
   "execution_count": null,
   "id": "1ee88c0c",
   "metadata": {},
   "outputs": [],
   "source": []
  },
  {
   "cell_type": "code",
   "execution_count": null,
   "id": "e21620d1",
   "metadata": {},
   "outputs": [],
   "source": []
  },
  {
   "cell_type": "code",
   "execution_count": null,
   "id": "2715e724",
   "metadata": {},
   "outputs": [],
   "source": []
  },
  {
   "cell_type": "code",
   "execution_count": null,
   "id": "f126caed",
   "metadata": {},
   "outputs": [],
   "source": []
  },
  {
   "cell_type": "code",
   "execution_count": null,
   "id": "0191248f",
   "metadata": {},
   "outputs": [],
   "source": []
  },
  {
   "cell_type": "code",
   "execution_count": 28,
   "id": "abf222f0",
   "metadata": {
    "scrolled": true
   },
   "outputs": [
    {
     "name": "stdout",
     "output_type": "stream",
     "text": [
      "w:[ 4.00000006  7.00000026 -7.99999992] b: 10.99999271362478\n"
     ]
    }
   ],
   "source": [
    "# #training the model\n",
    "num_epochs = 10000;\n",
    "r = 0.001;\n",
    "w = np.array([5,8,11])\n",
    "b = 4.\n",
    "for epoch in range(num_epochs):  # repeat several epochs\n",
    "    for i in range(len(X)):      # loop on the rows\n",
    "        y_pred = (w*X[i]).sum() + b\n",
    "        #print(f'y_pred: {y_pred}')\n",
    "        #print(f'loss: {(y_pred-Y[i])**2}')\n",
    "        w_der = 2*(y_pred-Y[i])*X[i]\n",
    "        #print(f'w_der: {w_der}')\n",
    "        b_der = 2*(y_pred-Y[i])*1.\n",
    "        #print(f'b_der: {b_der}')\n",
    "        w = w - r*w_der\n",
    "        b = b - r*b_der\n",
    "print(f'w:{w} b: {b}')"
   ]
  },
  {
   "cell_type": "code",
   "execution_count": 29,
   "id": "b8e169b4",
   "metadata": {},
   "outputs": [
    {
     "name": "stdout",
     "output_type": "stream",
     "text": [
      "y_real: -5\n",
      "pred_value: -5.000005446021985\n"
     ]
    }
   ],
   "source": [
    "# testing on values not seen above\n",
    "x_test = np.array([3,4,7])\n",
    "y_test = 4*3+7*4+(-8)*7+11\n",
    "print(f'y_real: {y_test}')\n",
    "y_pred = (w*x_test).sum()+b\n",
    "print(f'pred_value: {y_pred}')"
   ]
  },
  {
   "cell_type": "markdown",
   "id": "04b10e71",
   "metadata": {},
   "source": [
    "- We generated this data in a way that $$4X_1+7X_2-8X_3+11 = \\hat{Y}$$Thus, a \"perfect\" model must recover this values. We are very close in this case, which shows the model in converging. In fact, n_epochs=10000 gives almost the perfect answer. \n",
    "- Major difficulty is obvious number of data points(9) > number of parameters(4). Imagine, we have a real data with 10,000 rows. It is impossible to train a linear regression to accurately predic such a data. \n"
   ]
  },
  {
   "cell_type": "markdown",
   "id": "ebb62d6d",
   "metadata": {},
   "source": [
    "##  Problem: \n",
    "**Few number of parameters** and **linear model**.... \n",
    "##  Solution: \n",
    "**More parameters** and **non-linear model**...  This is Deep Learning! "
   ]
  },
  {
   "cell_type": "code",
   "execution_count": null,
   "id": "c70f71da",
   "metadata": {},
   "outputs": [],
   "source": []
  }
 ],
 "metadata": {
  "kernelspec": {
   "display_name": "Python 3 (ipykernel)",
   "language": "python",
   "name": "python3"
  },
  "language_info": {
   "codemirror_mode": {
    "name": "ipython",
    "version": 3
   },
   "file_extension": ".py",
   "mimetype": "text/x-python",
   "name": "python",
   "nbconvert_exporter": "python",
   "pygments_lexer": "ipython3",
   "version": "3.8.10"
  }
 },
 "nbformat": 4,
 "nbformat_minor": 5
}
