{
 "cells": [
  {
   "cell_type": "code",
   "execution_count": 1,
   "id": "2fb176d4",
   "metadata": {},
   "outputs": [],
   "source": [
    "import numpy as np\n",
    "import matplotlib.pyplot as plt"
   ]
  },
  {
   "cell_type": "code",
   "execution_count": 2,
   "id": "99404e58",
   "metadata": {},
   "outputs": [
    {
     "name": "stdout",
     "output_type": "stream",
     "text": [
      "w1 = 6.93015 w2 = 1.92389, b = 0.75521 loss: 0.056409\n"
     ]
    }
   ],
   "source": [
    "\n",
    "X1 =  np.array([3,8,8 ,3, 1 ,4])\n",
    "X2 =  np.array([3 ,6 ,1 ,4 ,6 ,9])\n",
    "Y = np.array([27 ,68 ,58 ,29 ,19, 46])\n",
    "N = X1.size\n",
    "w1 = 0.; #initial guess for w1\n",
    "w2 = 0.; #initial guess for w2\n",
    "b = 0.   #initial guess for b\n",
    "num_epochs = 50;\n",
    "lr = 0.01;\n",
    "for i in range(num_epochs):\n",
    "    #FORWARD PASS\n",
    "    y_pred = w1 * X1 + w2 * X2 +b          #get the prediction\n",
    "    loss = 1/N * np.sum((y_pred - Y)**2)   #compute the loss\n",
    "    \n",
    "    #BACK-PROPOGATION\n",
    "    w1_der = (1/N)*np.sum(2*(y_pred-Y)*X1) #compute the gradient w.r.t w1\n",
    "    w2_der = (1/N)*np.sum(2*(y_pred-Y)*X2) #compute the gradient w.r.t w2\n",
    "    b_der = (1/N)*np.sum(2*(y_pred-Y))*1   #compute the gradient w.r.t b\n",
    "    w1 = w1 - lr * w1_der  # update w1\n",
    "    w2 = w2 - lr * w2_der  # update w2\n",
    "    b = b - lr * b_der     # update b\n",
    "    \n",
    "print(f'w1 = {w1:0.5f} w2 = {w2:0.5f}, b = {b:0.5f} loss: {loss:0.6f}')"
   ]
  },
  {
   "cell_type": "code",
   "execution_count": 5,
   "id": "46af2458",
   "metadata": {},
   "outputs": [
    {
     "data": {
      "image/png": "[encoded data removed]",
      "text/plain": [
       "<Figure size 432x288 with 1 Axes>"
      ]
     },
     "metadata": {
      "needs_background": "light"
     },
     "output_type": "display_data"
    }
   ],
   "source": [
    "y_pred = w1*X1+w2*X2+b\n",
    "x = np.array([0,1,2,3,4,5])\n",
    "plt.plot(x,y_pred,'ro',markersize=5)\n",
    "plt.plot(x,Y,'bx',markersize=5)\n",
    "plt.xlabel('X_indices')\n",
    "plt.ylabel('y_values')\n",
    "plt.legend(['predicted','real_values'],loc='best')\n",
    "plt.grid()\n",
    "plt.savefig('grad_dec.png')\n",
    "plt.show()"
   ]
  },
  {
   "cell_type": "code",
   "execution_count": 4,
   "id": "1262177f",
   "metadata": {},
   "outputs": [
    {
     "name": "stdout",
     "output_type": "stream",
     "text": [
      "[27 68 58 29 19 46]\n"
     ]
    }
   ],
   "source": [
    "print(Y)"
   ]
  },
  {
   "cell_type": "code",
   "execution_count": 5,
   "id": "2fb5dc62",
   "metadata": {},
   "outputs": [
    {
     "name": "stdout",
     "output_type": "stream",
     "text": [
      "[42.00002323 97.99998488 63.00000884 49.00001843 49.00001843 90.99998967]\n"
     ]
    }
   ],
   "source": [
    "print(y_pred)"
   ]
  },
  {
   "cell_type": "code",
   "execution_count": 9,
   "id": "1970d8fc",
   "metadata": {},
   "outputs": [
    {
     "data": {
      "text/plain": [
       "27.00002"
      ]
     },
     "execution_count": 9,
     "metadata": {},
     "output_type": "execute_result"
    }
   ],
   "source": [
    "7.00000*X1[0] + 1.99999*X2[0]+ 0.00005"
   ]
  },
  {
   "cell_type": "code",
   "execution_count": null,
   "id": "297c6255",
   "metadata": {},
   "outputs": [],
   "source": []
  }
 ],
 "metadata": {
  "kernelspec": {
   "display_name": "Python 3 (ipykernel)",
   "language": "python",
   "name": "python3"
  },
  "language_info": {
   "codemirror_mode": {
    "name": "ipython",
    "version": 3
   },
   "file_extension": ".py",
   "mimetype": "text/x-python",
   "name": "python",
   "nbconvert_exporter": "python",
   "pygments_lexer": "ipython3",
   "version": "3.8.10"
  },
  "latex_envs": {
   "LaTeX_envs_menu_present": true,
   "autoclose": true,
   "autocomplete": true,
   "bibliofile": "biblio.bib",
   "cite_by": "apalike",
   "current_citInitial": 1,
   "eqLabelWithNumbers": true,
   "eqNumInitial": 1,
   "hotkeys": {
    "equation": "Ctrl-E",
    "itemize": "Ctrl-I"
   },
   "labels_anchors": false,
   "latex_user_defs": false,
   "report_style_numbering": false,
   "user_envs_cfg": false
  }
 },
 "nbformat": 4,
 "nbformat_minor": 5
}
